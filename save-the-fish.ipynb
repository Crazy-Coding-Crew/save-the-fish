{
 "cells": [
  {
   "cell_type": "code",
   "execution_count": null,
   "metadata": {
    "collapsed": true
   },
   "outputs": [],
   "source": [
    "import numpy as np\n",
    "import matplotlib.pyplot as plt\n",
    "%matplotlib inline\n",
    "\n",
    "# Function to show 4 images\n",
    "def show_plots(N, imgs, title):\n",
    "    rows = (N + 3) // 4 \n",
    "    select_imgs = [imgs[np.random.choice(len(imgs))] for _ in range(N)]\n",
    "    _, ax = plt.subplots(rows, 4, sharex='col', sharey='row', figsize=(20, 3 * rows))\n",
    "    plt.suptitle(title, size=20)\n",
    "    for i, img in enumerate(select_imgs):\n",
    "        a = ax[i] if len(ax.shape) < 2 else ax[i // 4, i % 4]\n",
    "        a.imshow(img)\n",
    "        a.set_axis_off()\n",
    "        #a.set_adjustable('box-forced')"
   ]
  },
  {
   "cell_type": "code",
   "execution_count": null,
   "metadata": {
    "collapsed": false
   },
   "outputs": [],
   "source": [
    "import random, glob\n",
    "from scipy.misc import imread\n",
    "select = 500 # Only load 500 images for speed\n",
    "# Data loading\n",
    "train_files = sorted(glob.glob('train/*/*.jpg'), key=lambda x: random.random())[:select]\n",
    "train = np.array([imread(img) for img in train_files])\n",
    "print('Number of training samples {}'.format(len(train)))"
   ]
  },
  {
   "cell_type": "code",
   "execution_count": null,
   "metadata": {
    "collapsed": false
   },
   "outputs": [],
   "source": [
    "import pandas as pd\n",
    "print('Image sizes in training sample:')\n",
    "shapes = np.array([str(img.shape) for img in train])\n",
    "pd.Series(shapes).value_counts()"
   ]
  },
  {
   "cell_type": "code",
   "execution_count": null,
   "metadata": {
    "collapsed": false
   },
   "outputs": [],
   "source": [
    "for uniq in pd.Series(shapes).unique():\n",
    "    show_plots(4,train[shapes == uniq], 'Images with shape: {}'.format(uniq))\n",
    "    plt.show()"
   ]
  },
  {
   "cell_type": "code",
   "execution_count": null,
   "metadata": {
    "collapsed": false
   },
   "outputs": [],
   "source": [
    "import multiprocessing, progressbar\n",
    "from skimage.transform import resize\n",
    "\n",
    "# Function for computing distance between images\n",
    "def compare(args):\n",
    "    img, img2 = args\n",
    "    img = (img - img.mean()) / img.std()\n",
    "    img2 = (img2 - img2.mean()) / img2.std()\n",
    "    return np.mean(np.abs(img - img2))\n",
    "\n",
    "# Resize the images to speed it up.\n",
    "train_rescaled = [resize(img, (224, 224)) for img in train]\n",
    "\n",
    "# Create the distance matrix in a multithreaded fashion\n",
    "pool = multiprocessing.Pool(8)\n",
    "distances = np.zeros((len(train_rescaled), len(train_rescaled)))\n",
    "bar = progressbar.ProgressBar(maxval=len(train_rescaled))\n",
    "bar.start()\n",
    "for i, img in enumerate(train_rescaled):\n",
    "    bar.update(i)\n",
    "    all_imgs = [(img, f) for f in train_rescaled]\n",
    "    dists = pool.map(compare, all_imgs)\n",
    "    distances[i, :] = dists"
   ]
  },
  {
   "cell_type": "code",
   "execution_count": null,
   "metadata": {
    "collapsed": false
   },
   "outputs": [],
   "source": [
    "print distances.shape\n",
    "print len(distances.flatten())\n",
    "plt.hist(distances.flatten(), bins=50)\n",
    "plt.title('Histogram of distance matrix')"
   ]
  },
  {
   "cell_type": "code",
   "execution_count": null,
   "metadata": {
    "collapsed": false
   },
   "outputs": [],
   "source": [
    "from sklearn import cluster\n",
    "cls = cluster.DBSCAN(metric='precomputed', min_samples=3, eps=0.6)\n",
    "y = cls.fit_predict(distances)\n",
    "print(y)\n",
    "print('Cluster sizes:')\n",
    "print(pd.Series(y).value_counts())"
   ]
  },
  {
   "cell_type": "code",
   "execution_count": null,
   "metadata": {
    "collapsed": false
   },
   "outputs": [],
   "source": [
    "for uniq in pd.Series(y).value_counts().index:\n",
    "    if uniq != -1:\n",
    "        size = len(np.array(train_rescaled)[y == uniq])\n",
    "        if size > 12:\n",
    "            show_plots(12,np.array(train_rescaled)[y == uniq], 'BoatID: {} - Image count {}'.format(uniq, size))\n",
    "            plt.show()\n",
    "        else:\n",
    "            show_plots(size,np.array(train_rescaled)[y == uniq], 'BoatID: {} - Image count {}'.format(uniq, size))\n",
    "            plt.show() "
   ]
  },
  {
   "cell_type": "code",
   "execution_count": null,
   "metadata": {
    "collapsed": false
   },
   "outputs": [],
   "source": [
    "size = len(np.array(train)[y == -1])\n",
    "show_plots(size,np.array(train)[y == -1], 'BoatID: {} (Unclassified images) - Image count {}'.format(-1, size))"
   ]
  },
  {
   "cell_type": "code",
   "execution_count": null,
   "metadata": {
    "collapsed": false
   },
   "outputs": [],
   "source": [
    "same = distances[y == 15][:,y==15]\n",
    "plt.imshow(same,interpolation='none')\n",
    "plt.colorbar()"
   ]
  },
  {
   "cell_type": "code",
   "execution_count": null,
   "metadata": {
    "collapsed": false
   },
   "outputs": [],
   "source": [
    "print np.arange(500)[y==28]\n",
    "print np.arange(500)[y==15]\n",
    "print distances[np.arange(500)[y==15],433]\n",
    "show_plots(1,[train_rescaled[335]],\"\")"
   ]
  },
  {
   "cell_type": "code",
   "execution_count": null,
   "metadata": {
    "collapsed": false
   },
   "outputs": [],
   "source": [
    "mask = [e in [15,28] for e in y]\n",
    "similar = [img for (img,m) in zip(train_rescaled,mask) if m]\n",
    "show_plots(len(similar),similar,\"same boat but different categories\")"
   ]
  },
  {
   "cell_type": "code",
   "execution_count": null,
   "metadata": {
    "collapsed": false
   },
   "outputs": [],
   "source": [
    "from skimage import feature, color\n",
    "img1 = color.rgb2gray(train_rescaled[335])\n",
    "img2 = color.rgb2gray(train_rescaled[433])\n",
    "edges1 = feature.canny(img1, sigma=2)\n",
    "edges2 = feature.canny(img2, sigma=2)\n",
    "_, ax = plt.subplots(nrows=2, ncols=2, figsize=(20, 6), sharex=True, sharey=True)\n",
    "for i,im in enumerate([img1,edges1,img2,edges2]):\n",
    "    a = ax[i // 2, i % 2]\n",
    "    a.imshow(im,cmap='gray')\n",
    "    a.axis('off')\n",
    "    "
   ]
  },
  {
   "cell_type": "code",
   "execution_count": null,
   "metadata": {
    "collapsed": true
   },
   "outputs": [],
   "source": []
  }
 ],
 "metadata": {
  "kernelspec": {
   "display_name": "Python 2",
   "language": "python",
   "name": "python2"
  },
  "language_info": {
   "codemirror_mode": {
    "name": "ipython",
    "version": 2
   },
   "file_extension": ".py",
   "mimetype": "text/x-python",
   "name": "python",
   "nbconvert_exporter": "python",
   "pygments_lexer": "ipython2",
   "version": "2.7.12"
  }
 },
 "nbformat": 4,
 "nbformat_minor": 1
}
